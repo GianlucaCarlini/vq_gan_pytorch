{
 "cells": [
  {
   "cell_type": "code",
   "execution_count": 1,
   "metadata": {},
   "outputs": [],
   "source": [
    "import torch\n",
    "import torch.nn as nn\n",
    "from modules.vq_vae import Encoder, Decoder, VQVAE\n",
    "from modules.discriminator import Discriminator\n",
    "from torchinfo import summary\n",
    "\n",
    "device = torch.device(\"cuda\" if torch.cuda.is_available() else \"cpu\")"
   ]
  },
  {
   "cell_type": "code",
   "execution_count": 2,
   "metadata": {},
   "outputs": [],
   "source": [
    "encoder = Encoder(\n",
    "    in_channels=3,\n",
    "    out_channels=3,\n",
    "    embed_dim=64,\n",
    "    depths=[2, 2, 2, 2],\n",
    "    channel_multipliers=[1, 2, 4, 8],\n",
    ")\n",
    "encoder = encoder.to(device)\n"
   ]
  },
  {
   "cell_type": "code",
   "execution_count": 3,
   "metadata": {},
   "outputs": [
    {
     "data": {
      "text/plain": [
       "===============================================================================================\n",
       "Layer (type:depth-idx)                        Output Shape              Param #\n",
       "===============================================================================================\n",
       "Encoder                                       [1, 3, 32, 32]            --\n",
       "├─Conv2d: 1-1                                 [1, 64, 256, 256]         256\n",
       "├─ModuleList: 1-2                             --                        --\n",
       "│    └─ResidualBlock: 2-1                     [1, 128, 128, 128]        --\n",
       "│    │    └─ModuleList: 3-1                   --                        --\n",
       "│    │    │    └─ResidualLayer: 4-1           [1, 64, 256, 256]         --\n",
       "│    │    │    │    └─Conv2d: 5-1             [1, 64, 256, 256]         36,928\n",
       "│    │    │    │    └─GroupNorm: 5-2          [1, 64, 256, 256]         128\n",
       "│    │    │    │    └─GELU: 5-3               [1, 64, 256, 256]         --\n",
       "│    │    │    │    └─Conv2d: 5-4             [1, 64, 256, 256]         36,928\n",
       "│    │    │    │    └─GroupNorm: 5-5          [1, 64, 256, 256]         128\n",
       "│    │    │    │    └─GELU: 5-6               [1, 64, 256, 256]         --\n",
       "│    │    │    │    └─GELU: 5-7               [1, 64, 256, 256]         --\n",
       "│    │    │    └─ResidualLayer: 4-2           [1, 128, 256, 256]        --\n",
       "│    │    │    │    └─Conv2d: 5-8             [1, 64, 256, 256]         36,928\n",
       "│    │    │    │    └─GroupNorm: 5-9          [1, 64, 256, 256]         128\n",
       "│    │    │    │    └─GELU: 5-10              [1, 64, 256, 256]         --\n",
       "│    │    │    │    └─Conv2d: 5-11            [1, 64, 256, 256]         36,928\n",
       "│    │    │    │    └─GroupNorm: 5-12         [1, 64, 256, 256]         128\n",
       "│    │    │    │    └─GELU: 5-13              [1, 64, 256, 256]         --\n",
       "│    │    │    │    └─Conv2d: 5-14            [1, 128, 256, 256]        8,320\n",
       "│    │    │    │    └─Conv2d: 5-15            [1, 128, 256, 256]        73,856\n",
       "│    │    │    │    └─GELU: 5-16              [1, 128, 256, 256]        --\n",
       "│    │    └─Conv2d: 3-2                       [1, 128, 128, 128]        65,664\n",
       "│    └─ResidualBlock: 2-2                     [1, 256, 64, 64]          --\n",
       "│    │    └─ModuleList: 3-3                   --                        --\n",
       "│    │    │    └─ResidualLayer: 4-3           [1, 128, 128, 128]        --\n",
       "│    │    │    │    └─Conv2d: 5-17            [1, 128, 128, 128]        147,584\n",
       "│    │    │    │    └─GroupNorm: 5-18         [1, 128, 128, 128]        256\n",
       "│    │    │    │    └─GELU: 5-19              [1, 128, 128, 128]        --\n",
       "│    │    │    │    └─Conv2d: 5-20            [1, 128, 128, 128]        147,584\n",
       "│    │    │    │    └─GroupNorm: 5-21         [1, 128, 128, 128]        256\n",
       "│    │    │    │    └─GELU: 5-22              [1, 128, 128, 128]        --\n",
       "│    │    │    │    └─GELU: 5-23              [1, 128, 128, 128]        --\n",
       "│    │    │    └─ResidualLayer: 4-4           [1, 256, 128, 128]        --\n",
       "│    │    │    │    └─Conv2d: 5-24            [1, 128, 128, 128]        147,584\n",
       "│    │    │    │    └─GroupNorm: 5-25         [1, 128, 128, 128]        256\n",
       "│    │    │    │    └─GELU: 5-26              [1, 128, 128, 128]        --\n",
       "│    │    │    │    └─Conv2d: 5-27            [1, 128, 128, 128]        147,584\n",
       "│    │    │    │    └─GroupNorm: 5-28         [1, 128, 128, 128]        256\n",
       "│    │    │    │    └─GELU: 5-29              [1, 128, 128, 128]        --\n",
       "│    │    │    │    └─Conv2d: 5-30            [1, 256, 128, 128]        33,024\n",
       "│    │    │    │    └─Conv2d: 5-31            [1, 256, 128, 128]        295,168\n",
       "│    │    │    │    └─GELU: 5-32              [1, 256, 128, 128]        --\n",
       "│    │    └─Conv2d: 3-4                       [1, 256, 64, 64]          262,400\n",
       "│    └─ResidualBlock: 2-3                     [1, 512, 32, 32]          --\n",
       "│    │    └─ModuleList: 3-5                   --                        --\n",
       "│    │    │    └─ResidualLayer: 4-5           [1, 256, 64, 64]          --\n",
       "│    │    │    │    └─Conv2d: 5-33            [1, 256, 64, 64]          590,080\n",
       "│    │    │    │    └─GroupNorm: 5-34         [1, 256, 64, 64]          512\n",
       "│    │    │    │    └─GELU: 5-35              [1, 256, 64, 64]          --\n",
       "│    │    │    │    └─Conv2d: 5-36            [1, 256, 64, 64]          590,080\n",
       "│    │    │    │    └─GroupNorm: 5-37         [1, 256, 64, 64]          512\n",
       "│    │    │    │    └─GELU: 5-38              [1, 256, 64, 64]          --\n",
       "│    │    │    │    └─GELU: 5-39              [1, 256, 64, 64]          --\n",
       "│    │    │    └─ResidualLayer: 4-6           [1, 512, 64, 64]          --\n",
       "│    │    │    │    └─Conv2d: 5-40            [1, 256, 64, 64]          590,080\n",
       "│    │    │    │    └─GroupNorm: 5-41         [1, 256, 64, 64]          512\n",
       "│    │    │    │    └─GELU: 5-42              [1, 256, 64, 64]          --\n",
       "│    │    │    │    └─Conv2d: 5-43            [1, 256, 64, 64]          590,080\n",
       "│    │    │    │    └─GroupNorm: 5-44         [1, 256, 64, 64]          512\n",
       "│    │    │    │    └─GELU: 5-45              [1, 256, 64, 64]          --\n",
       "│    │    │    │    └─Conv2d: 5-46            [1, 512, 64, 64]          131,584\n",
       "│    │    │    │    └─Conv2d: 5-47            [1, 512, 64, 64]          1,180,160\n",
       "│    │    │    │    └─GELU: 5-48              [1, 512, 64, 64]          --\n",
       "│    │    └─Conv2d: 3-6                       [1, 512, 32, 32]          1,049,088\n",
       "│    └─ResidualBlock: 2-4                     [1, 512, 32, 32]          --\n",
       "│    │    └─ModuleList: 3-7                   --                        --\n",
       "│    │    │    └─ResidualLayer: 4-7           [1, 512, 32, 32]          --\n",
       "│    │    │    │    └─Conv2d: 5-49            [1, 512, 32, 32]          2,359,808\n",
       "│    │    │    │    └─GroupNorm: 5-50         [1, 512, 32, 32]          1,024\n",
       "│    │    │    │    └─GELU: 5-51              [1, 512, 32, 32]          --\n",
       "│    │    │    │    └─Conv2d: 5-52            [1, 512, 32, 32]          2,359,808\n",
       "│    │    │    │    └─GroupNorm: 5-53         [1, 512, 32, 32]          1,024\n",
       "│    │    │    │    └─GELU: 5-54              [1, 512, 32, 32]          --\n",
       "│    │    │    │    └─GELU: 5-55              [1, 512, 32, 32]          --\n",
       "│    │    │    └─ResidualLayer: 4-8           [1, 512, 32, 32]          --\n",
       "│    │    │    │    └─Conv2d: 5-56            [1, 512, 32, 32]          2,359,808\n",
       "│    │    │    │    └─GroupNorm: 5-57         [1, 512, 32, 32]          1,024\n",
       "│    │    │    │    └─GELU: 5-58              [1, 512, 32, 32]          --\n",
       "│    │    │    │    └─Conv2d: 5-59            [1, 512, 32, 32]          2,359,808\n",
       "│    │    │    │    └─GroupNorm: 5-60         [1, 512, 32, 32]          1,024\n",
       "│    │    │    │    └─GELU: 5-61              [1, 512, 32, 32]          --\n",
       "│    │    │    │    └─GELU: 5-62              [1, 512, 32, 32]          --\n",
       "├─GroupNorm: 1-3                              [1, 512, 32, 32]          1,024\n",
       "├─Conv2d: 1-4                                 [1, 3, 32, 32]            1,539\n",
       "===============================================================================================\n",
       "Total params: 15,647,363\n",
       "Trainable params: 15,647,363\n",
       "Non-trainable params: 0\n",
       "Total mult-adds (G): 58.06\n",
       "===============================================================================================\n",
       "Input size (MB): 0.79\n",
       "Forward/backward pass size (MB): 805.33\n",
       "Params size (MB): 62.59\n",
       "Estimated Total Size (MB): 868.71\n",
       "==============================================================================================="
      ]
     },
     "execution_count": 3,
     "metadata": {},
     "output_type": "execute_result"
    }
   ],
   "source": [
    "summary(encoder, input_size=(1, 3, 256, 256), depth=5)"
   ]
  },
  {
   "cell_type": "code",
   "execution_count": 2,
   "metadata": {},
   "outputs": [],
   "source": [
    "decoder = Decoder(in_channels=3, out_channels=3, embed_dim=64, depths=[2, 2, 2, 2], channel_multipliers=[8, 4, 2, 1])\n",
    "decoder = decoder.to(device)"
   ]
  },
  {
   "cell_type": "code",
   "execution_count": 2,
   "metadata": {},
   "outputs": [],
   "source": [
    "vq_vae = VQVAE(in_channels=3, out_channels=3, latentd_dim=4, embed_dim=48, depths=[2, 2, 2, 2], channel_multipliers=[1, 2, 4, 8])\n",
    "vq_vae = vq_vae.to(device)"
   ]
  },
  {
   "cell_type": "code",
   "execution_count": 3,
   "metadata": {},
   "outputs": [],
   "source": [
    "x, loss, perplexity = vq_vae.encode(torch.randn(1, 3, 256, 256).to(device))"
   ]
  },
  {
   "cell_type": "code",
   "execution_count": 2,
   "metadata": {},
   "outputs": [],
   "source": [
    "discriminator = Discriminator(in_channels=3, embed_dim=32, num_layers=3, channel_multipliers=[1, 2, 4])\n",
    "discriminator = discriminator.to(device)"
   ]
  },
  {
   "cell_type": "code",
   "execution_count": 3,
   "metadata": {},
   "outputs": [
    {
     "name": "stdout",
     "output_type": "stream",
     "text": [
      "Discriminator(\n",
      "  (activation): ReLU()\n",
      "  (layers): ModuleList(\n",
      "    (0): Sequential(\n",
      "      (0): Conv2d(32, 64, kernel_size=(4, 4), stride=(2, 2), padding=(1, 1))\n",
      "      (1): GroupNorm(1, 64, eps=1e-05, affine=True)\n",
      "      (2): ReLU()\n",
      "    )\n",
      "    (1): Sequential(\n",
      "      (0): Conv2d(64, 128, kernel_size=(4, 4), stride=(2, 2), padding=(1, 1))\n",
      "      (1): GroupNorm(1, 128, eps=1e-05, affine=True)\n",
      "      (2): ReLU()\n",
      "    )\n",
      "  )\n",
      "  (initial_conv): Conv2d(3, 32, kernel_size=(4, 4), stride=(2, 2), padding=(1, 1))\n",
      "  (initial_norm): GroupNorm(1, 32, eps=1e-05, affine=True)\n",
      "  (final_conv): Conv2d(128, 1, kernel_size=(1, 1), stride=(1, 1))\n",
      ")\n"
     ]
    }
   ],
   "source": [
    "print(discriminator)"
   ]
  },
  {
   "cell_type": "code",
   "execution_count": 4,
   "metadata": {},
   "outputs": [
    {
     "name": "stdout",
     "output_type": "stream",
     "text": [
      "----------------------------------------------------------------\n",
      "        Layer (type)               Output Shape         Param #\n",
      "================================================================\n",
      "            Conv2d-1         [-1, 32, 128, 128]           1,568\n",
      "         GroupNorm-2         [-1, 32, 128, 128]              64\n",
      "              ReLU-3         [-1, 32, 128, 128]               0\n",
      "            Conv2d-4           [-1, 64, 64, 64]          32,832\n",
      "         GroupNorm-5           [-1, 64, 64, 64]             128\n",
      "              ReLU-6           [-1, 64, 64, 64]               0\n",
      "            Conv2d-7          [-1, 128, 32, 32]         131,200\n",
      "         GroupNorm-8          [-1, 128, 32, 32]             256\n",
      "              ReLU-9          [-1, 128, 32, 32]               0\n",
      "           Conv2d-10            [-1, 1, 32, 32]             129\n",
      "================================================================\n",
      "Total params: 166,177\n",
      "Trainable params: 166,177\n",
      "Non-trainable params: 0\n",
      "----------------------------------------------------------------\n",
      "Input size (MB): 0.75\n",
      "Forward/backward pass size (MB): 21.01\n",
      "Params size (MB): 0.63\n",
      "Estimated Total Size (MB): 22.39\n",
      "----------------------------------------------------------------\n"
     ]
    }
   ],
   "source": [
    "summary(discriminator, (3, 256, 256))"
   ]
  }
 ],
 "metadata": {
  "kernelspec": {
   "display_name": "torch2",
   "language": "python",
   "name": "python3"
  },
  "language_info": {
   "codemirror_mode": {
    "name": "ipython",
    "version": 3
   },
   "file_extension": ".py",
   "mimetype": "text/x-python",
   "name": "python",
   "nbconvert_exporter": "python",
   "pygments_lexer": "ipython3",
   "version": "3.9.16"
  },
  "orig_nbformat": 4
 },
 "nbformat": 4,
 "nbformat_minor": 2
}
