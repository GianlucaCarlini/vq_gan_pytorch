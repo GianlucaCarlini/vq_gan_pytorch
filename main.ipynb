{
 "cells": [
  {
   "cell_type": "code",
   "execution_count": null,
   "metadata": {},
   "outputs": [],
   "source": [
    "import torch\n",
    "import torch.nn as nn\n",
    "from modules.vq_vae import Encoder, Decoder, VQVAE\n",
    "from modules.discriminator import Discriminator\n",
    "from torchinfo import summary\n",
    "\n",
    "device = torch.device(\"cuda\" if torch.cuda.is_available() else \"cpu\")"
   ]
  },
  {
   "cell_type": "code",
   "execution_count": null,
   "metadata": {},
   "outputs": [],
   "source": [
    "encoder = Encoder(\n",
    "    in_channels=3,\n",
    "    out_channels=3,\n",
    "    embed_dim=64,\n",
    "    depths=[2, 2, 2, 2],\n",
    "    channel_multipliers=[1, 2, 4, 8],\n",
    "    activations=[nn.GELU, nn.GELU, nn.GELU],\n",
    ")\n",
    "encoder = encoder.to(device)\n"
   ]
  },
  {
   "cell_type": "code",
   "execution_count": null,
   "metadata": {},
   "outputs": [],
   "source": [
    "summary(encoder, input_size=(1, 3, 256, 256), depth=5)"
   ]
  },
  {
   "cell_type": "code",
   "execution_count": null,
   "metadata": {},
   "outputs": [],
   "source": [
    "decoder = Decoder(in_channels=3, out_channels=3, embed_dim=64, depths=[2, 2, 2, 2], channel_multipliers=[8, 4, 2, 1], activations=[nn.SELU, nn.SELU, nn.SELU])\n",
    "decoder = decoder.to(device)"
   ]
  },
  {
   "cell_type": "code",
   "execution_count": null,
   "metadata": {},
   "outputs": [],
   "source": [
    "summary(decoder, input_size=(1, 3, 256, 256), depth=5)"
   ]
  },
  {
   "cell_type": "code",
   "execution_count": null,
   "metadata": {},
   "outputs": [],
   "source": [
    "vq_vae = VQVAE(in_channels=3, out_channels=3, latentd_dim=4, embed_dim=48, depths=[2, 2, 2, 2], channel_multipliers=[1, 2, 4, 8])\n",
    "vq_vae = vq_vae.to(device)"
   ]
  },
  {
   "cell_type": "code",
   "execution_count": null,
   "metadata": {},
   "outputs": [],
   "source": [
    "x, loss, perplexity = vq_vae.encode(torch.randn(1, 3, 256, 256).to(device))"
   ]
  },
  {
   "cell_type": "code",
   "execution_count": null,
   "metadata": {},
   "outputs": [],
   "source": [
    "discriminator = Discriminator(in_channels=3, embed_dim=32, num_layers=3, channel_multipliers=[1, 2, 4])\n",
    "discriminator = discriminator.to(device)"
   ]
  },
  {
   "cell_type": "code",
   "execution_count": null,
   "metadata": {},
   "outputs": [],
   "source": [
    "print(discriminator)"
   ]
  },
  {
   "cell_type": "code",
   "execution_count": null,
   "metadata": {},
   "outputs": [],
   "source": [
    "summary(discriminator, (3, 256, 256))"
   ]
  }
 ],
 "metadata": {
  "kernelspec": {
   "display_name": "torch2",
   "language": "python",
   "name": "python3"
  },
  "language_info": {
   "codemirror_mode": {
    "name": "ipython",
    "version": 3
   },
   "file_extension": ".py",
   "mimetype": "text/x-python",
   "name": "python",
   "nbconvert_exporter": "python",
   "pygments_lexer": "ipython3",
   "version": "3.9.16"
  },
  "orig_nbformat": 4
 },
 "nbformat": 4,
 "nbformat_minor": 2
}
